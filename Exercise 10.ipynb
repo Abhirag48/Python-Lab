{
 "cells": [
  {
   "cell_type": "code",
   "execution_count": 4,
   "metadata": {
    "collapsed": true
   },
   "outputs": [
    {
     "name": "stdout",
     "output_type": "stream",
     "text": [
      "\n",
      "1.CIRCLE\n",
      "2.RECTANGLE\n",
      "3.EXIT\n",
      "Enter a Option: 1\n",
      "Enter Radius: 3\n",
      "Area Of Circle of radius   3 is:  28.274333882308138\n",
      "Perimeter of Circle is : 18.84955592153876\n",
      "\n",
      "1.CIRCLE\n",
      "2.RECTANGLE\n",
      "3.EXIT\n",
      "Enter a Option: 2\n",
      "Enter Length: 2\n",
      "Enter Breadth: 6\n",
      "Area Of RECTANGLE is:  12\n",
      "Perimeter Of RECTANGLE is:  16\n",
      "\n",
      "1.CIRCLE\n",
      "2.RECTANGLE\n",
      "3.EXIT\n",
      "Enter a Option: 3\n",
      "EXITed!\n"
     ]
    }
   ],
   "source": [
    "#1:Prgm Modules for Rect,crcl.incld mthds to find area,perimeter of fig's in each module\n",
    "#Write prgms to find area,perimeter of fig's by diff importing statements \"selective import and import*stmnt\"\n",
    "import crclmdl\n",
    "import rectmdl\n",
    "while(1):\n",
    "    print(\"\\n1.CIRCLE\\n2.RECTANGLE\\n3.EXIT\")\n",
    "    op=int(input(\"Enter a Option: \"))\n",
    "    if op==1:\n",
    "        r=int(input(\"Enter Radius: \"))\n",
    "        print(\"Area Of Circle of radius  \",r,\"is: \",crclmdl.area2(r))\n",
    "        print(\"Perimeter of Circle is :\",crclmdl.peri2(r))\n",
    "    elif op==2:\n",
    "        l=int(input(\"Enter Length: \"))\n",
    "        b=int(input(\"Enter Breadth: \"))\n",
    "        print(\"Area Of RECTANGLE is: \",rectmdl.area(l,b))\n",
    "        print(\"Perimeter Of RECTANGLE is: \",rectmdl.peri(l,b))\n",
    "    else:\n",
    "        print(\"EXITed!\")\n",
    "        break\n"
   ]
  },
  {
   "cell_type": "code",
   "execution_count": null,
   "metadata": {
    "collapsed": true
   },
   "outputs": [],
   "source": []
  }
 ],
 "metadata": {
  "kernelspec": {
   "display_name": "Python 3",
   "language": "python",
   "name": "python3"
  },
  "language_info": {
   "codemirror_mode": {
    "name": "ipython",
    "version": 3
   },
   "file_extension": ".py",
   "mimetype": "text/x-python",
   "name": "python",
   "nbconvert_exporter": "python",
   "pygments_lexer": "ipython3",
   "version": "3.6.3"
  }
 },
 "nbformat": 4,
 "nbformat_minor": 2
}
